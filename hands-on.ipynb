{
  "metadata": {
    "colab": {
      "provenance": []
    },
    "kernelspec": {
      "name": "python",
      "display_name": "Python (Pyodide)",
      "language": "python"
    },
    "language_info": {
      "codemirror_mode": {
        "name": "python",
        "version": 3
      },
      "file_extension": ".py",
      "mimetype": "text/x-python",
      "name": "python",
      "nbconvert_exporter": "python",
      "pygments_lexer": "ipython3",
      "version": "3.8"
    },
    "toc-autonumbering": true
  },
  "nbformat_minor": 4,
  "nbformat": 4,
  "cells": [
    {
      "cell_type": "markdown",
      "source": "# Python体験授業",
      "metadata": {}
    },
    {
      "cell_type": "markdown",
      "source": "## 目標",
      "metadata": {}
    },
    {
      "cell_type": "markdown",
      "source": "- Pythonプログラミングの雰囲気を掴む\n- 学習を継続するための次のアクションを起こせる",
      "metadata": {}
    },
    {
      "cell_type": "markdown",
      "source": "## 授業の概要\n\n- 先生が\n  - やること\n    - Pythonの（超）基本について解説\n    - Pythonを使った「円周率の計算」を体験\n    - 今後の学習に向けた資料の紹介\n\n  - やらないこと\n    - 詳しい話\n    - 厳密な話\n\n- 皆さんが\n  - やること\n    - 「手を動かす」\n      - 自分でプログラムを実行してみる\n        - 実行手順\n        1. 灰色のセルをクリック\n        2. 「CTRL」キーを押しながら 「Enter」を押して、実行\n      - はじめから入っていた数字や文字を自分なりに変えて実行してみる\n    - 「頭を動かす」\n      - 何が起きているか考えてみる\n  - やらないこと\n    - 怖がる（壊れたりしないので大丈夫です）\n    - 理解できないから落ち込む（50分で全てを理解するのは大変）",
      "metadata": {}
    },
    {
      "cell_type": "markdown",
      "source": "## プログラミングとは",
      "metadata": {}
    },
    {
      "cell_type": "markdown",
      "source": "- プログラム（コンピューターへの指示書）を書いて実行すること\n- 今回はPythonと呼ばれる「言語」を用いて、プログラミングを行います",
      "metadata": {
        "tags": []
      }
    },
    {
      "cell_type": "markdown",
      "source": "# Pythonの（超）基本",
      "metadata": {
        "tags": []
      }
    },
    {
      "cell_type": "markdown",
      "source": "## データの種類",
      "metadata": {
        "tags": []
      }
    },
    {
      "cell_type": "markdown",
      "source": "### 数値",
      "metadata": {
        "tags": []
      }
    },
    {
      "cell_type": "code",
      "source": "1",
      "metadata": {
        "trusted": true
      },
      "execution_count": 78,
      "outputs": [
        {
          "execution_count": 78,
          "output_type": "execute_result",
          "data": {
            "text/plain": "1"
          },
          "metadata": {}
        }
      ]
    },
    {
      "cell_type": "code",
      "source": "-273",
      "metadata": {
        "trusted": true
      },
      "execution_count": 79,
      "outputs": [
        {
          "execution_count": 79,
          "output_type": "execute_result",
          "data": {
            "text/plain": "-273"
          },
          "metadata": {}
        }
      ]
    },
    {
      "cell_type": "code",
      "source": "3.14",
      "metadata": {
        "trusted": true
      },
      "execution_count": 80,
      "outputs": [
        {
          "execution_count": 80,
          "output_type": "execute_result",
          "data": {
            "text/plain": "3.14"
          },
          "metadata": {}
        }
      ]
    },
    {
      "cell_type": "code",
      "source": "2/3",
      "metadata": {
        "trusted": true
      },
      "execution_count": 81,
      "outputs": [
        {
          "execution_count": 81,
          "output_type": "execute_result",
          "data": {
            "text/plain": "0.6666666666666666"
          },
          "metadata": {}
        }
      ]
    },
    {
      "cell_type": "markdown",
      "source": "### 文字列",
      "metadata": {}
    },
    {
      "cell_type": "code",
      "source": "'Hello World'",
      "metadata": {
        "trusted": true
      },
      "execution_count": 82,
      "outputs": [
        {
          "execution_count": 82,
          "output_type": "execute_result",
          "data": {
            "text/plain": "'Hello World'"
          },
          "metadata": {}
        }
      ]
    },
    {
      "cell_type": "code",
      "source": "'ようこそ科技高へ'",
      "metadata": {
        "trusted": true
      },
      "execution_count": 83,
      "outputs": [
        {
          "execution_count": 83,
          "output_type": "execute_result",
          "data": {
            "text/plain": "'ようこそ科技高へ'"
          },
          "metadata": {}
        }
      ]
    },
    {
      "cell_type": "markdown",
      "source": "## 四則演算",
      "metadata": {
        "tags": []
      }
    },
    {
      "cell_type": "markdown",
      "source": "足し算： +<br>\n引き算： -<br>\n掛け算： *<br>\n割り算： /<br>\n累乗$a^b$： a**b<br>",
      "metadata": {}
    },
    {
      "cell_type": "code",
      "source": "1 + 2",
      "metadata": {
        "tags": [],
        "trusted": true
      },
      "execution_count": 84,
      "outputs": [
        {
          "execution_count": 84,
          "output_type": "execute_result",
          "data": {
            "text/plain": "3"
          },
          "metadata": {}
        }
      ]
    },
    {
      "cell_type": "code",
      "source": "1 - 2",
      "metadata": {
        "trusted": true
      },
      "execution_count": 85,
      "outputs": [
        {
          "execution_count": 85,
          "output_type": "execute_result",
          "data": {
            "text/plain": "-1"
          },
          "metadata": {}
        }
      ]
    },
    {
      "cell_type": "code",
      "source": "1 * 2",
      "metadata": {
        "trusted": true
      },
      "execution_count": 86,
      "outputs": [
        {
          "execution_count": 86,
          "output_type": "execute_result",
          "data": {
            "text/plain": "2"
          },
          "metadata": {}
        }
      ]
    },
    {
      "cell_type": "code",
      "source": "1 / 2",
      "metadata": {
        "trusted": true
      },
      "execution_count": 87,
      "outputs": [
        {
          "execution_count": 87,
          "output_type": "execute_result",
          "data": {
            "text/plain": "0.5"
          },
          "metadata": {}
        }
      ]
    },
    {
      "cell_type": "code",
      "source": "2**3",
      "metadata": {
        "trusted": true
      },
      "execution_count": 88,
      "outputs": [
        {
          "execution_count": 88,
          "output_type": "execute_result",
          "data": {
            "text/plain": "8"
          },
          "metadata": {}
        }
      ]
    },
    {
      "cell_type": "code",
      "source": "'ようこそ'+'科技高へ'",
      "metadata": {
        "trusted": true
      },
      "execution_count": 89,
      "outputs": [
        {
          "execution_count": 89,
          "output_type": "execute_result",
          "data": {
            "text/plain": "'ようこそ科技高へ'"
          },
          "metadata": {}
        }
      ]
    },
    {
      "cell_type": "markdown",
      "source": "## 変数",
      "metadata": {
        "tags": []
      }
    },
    {
      "cell_type": "markdown",
      "source": "データを保持しておく箱のようなもの。後から値を取り出せる。",
      "metadata": {}
    },
    {
      "cell_type": "code",
      "source": "a = 1",
      "metadata": {
        "trusted": true
      },
      "execution_count": 90,
      "outputs": []
    },
    {
      "cell_type": "code",
      "source": "a",
      "metadata": {
        "trusted": true
      },
      "execution_count": 91,
      "outputs": [
        {
          "execution_count": 91,
          "output_type": "execute_result",
          "data": {
            "text/plain": "1"
          },
          "metadata": {}
        }
      ]
    },
    {
      "cell_type": "code",
      "source": "b = 2",
      "metadata": {
        "trusted": true
      },
      "execution_count": 92,
      "outputs": []
    },
    {
      "cell_type": "code",
      "source": "b",
      "metadata": {
        "trusted": true
      },
      "execution_count": 93,
      "outputs": [
        {
          "execution_count": 93,
          "output_type": "execute_result",
          "data": {
            "text/plain": "2"
          },
          "metadata": {}
        }
      ]
    },
    {
      "cell_type": "markdown",
      "source": "計算に利用できる。",
      "metadata": {}
    },
    {
      "cell_type": "code",
      "source": "a + b",
      "metadata": {
        "trusted": true
      },
      "execution_count": 94,
      "outputs": [
        {
          "execution_count": 94,
          "output_type": "execute_result",
          "data": {
            "text/plain": "3"
          },
          "metadata": {}
        }
      ]
    },
    {
      "cell_type": "code",
      "source": "a / b",
      "metadata": {
        "trusted": true
      },
      "execution_count": 95,
      "outputs": [
        {
          "execution_count": 95,
          "output_type": "execute_result",
          "data": {
            "text/plain": "0.5"
          },
          "metadata": {}
        }
      ]
    },
    {
      "cell_type": "code",
      "source": "b**3",
      "metadata": {
        "trusted": true
      },
      "execution_count": 96,
      "outputs": [
        {
          "execution_count": 96,
          "output_type": "execute_result",
          "data": {
            "text/plain": "8"
          },
          "metadata": {}
        }
      ]
    },
    {
      "cell_type": "code",
      "source": "welcome = 'ようこそ科技高へ'",
      "metadata": {
        "trusted": true
      },
      "execution_count": 97,
      "outputs": []
    },
    {
      "cell_type": "code",
      "source": "welcome",
      "metadata": {
        "trusted": true
      },
      "execution_count": 98,
      "outputs": [
        {
          "execution_count": 98,
          "output_type": "execute_result",
          "data": {
            "text/plain": "'ようこそ科技高へ'"
          },
          "metadata": {}
        }
      ]
    },
    {
      "cell_type": "markdown",
      "source": "## 配列",
      "metadata": {}
    },
    {
      "cell_type": "markdown",
      "source": "複数の値をセットで記憶する変数",
      "metadata": {}
    },
    {
      "cell_type": "code",
      "source": "even = [2, 4, 6]",
      "metadata": {
        "trusted": true
      },
      "execution_count": 99,
      "outputs": []
    },
    {
      "cell_type": "code",
      "source": "even",
      "metadata": {
        "trusted": true
      },
      "execution_count": 100,
      "outputs": [
        {
          "execution_count": 100,
          "output_type": "execute_result",
          "data": {
            "text/plain": "[2, 4, 6]"
          },
          "metadata": {}
        }
      ]
    },
    {
      "cell_type": "markdown",
      "source": "## Print関数",
      "metadata": {}
    },
    {
      "cell_type": "markdown",
      "source": "受け取った数字や文字列を出力する",
      "metadata": {}
    },
    {
      "cell_type": "code",
      "source": "print(0)",
      "metadata": {
        "trusted": true
      },
      "execution_count": 101,
      "outputs": [
        {
          "name": "stdout",
          "text": "0\n",
          "output_type": "stream"
        }
      ]
    },
    {
      "cell_type": "code",
      "source": "print('科技高')",
      "metadata": {
        "trusted": true
      },
      "execution_count": 102,
      "outputs": [
        {
          "name": "stdout",
          "text": "科技高\n",
          "output_type": "stream"
        }
      ]
    },
    {
      "cell_type": "markdown",
      "source": "受け取った変数の中身を出力する",
      "metadata": {}
    },
    {
      "cell_type": "code",
      "source": "print(a)",
      "metadata": {
        "trusted": true
      },
      "execution_count": 103,
      "outputs": [
        {
          "name": "stdout",
          "text": "1\n",
          "output_type": "stream"
        }
      ]
    },
    {
      "cell_type": "code",
      "source": "print(welcome)",
      "metadata": {
        "trusted": true
      },
      "execution_count": 104,
      "outputs": [
        {
          "name": "stdout",
          "text": "ようこそ科技高へ\n",
          "output_type": "stream"
        }
      ]
    },
    {
      "cell_type": "code",
      "source": "print('2022/12/14', welcome)",
      "metadata": {
        "trusted": true
      },
      "execution_count": 105,
      "outputs": [
        {
          "name": "stdout",
          "text": "2022/12/14 ようこそ科技高へ\n",
          "output_type": "stream"
        }
      ]
    },
    {
      "cell_type": "markdown",
      "source": "## コメント",
      "metadata": {}
    },
    {
      "cell_type": "code",
      "source": "# ←行頭にこの記号があると、その行はプログラムではなく、コメント文になる。",
      "metadata": {
        "trusted": true
      },
      "execution_count": 106,
      "outputs": []
    },
    {
      "cell_type": "code",
      "source": "# 変数　welcom　の内容を表示\nprint(welcome)",
      "metadata": {
        "trusted": true
      },
      "execution_count": 107,
      "outputs": [
        {
          "name": "stdout",
          "text": "ようこそ科技高へ\n",
          "output_type": "stream"
        }
      ]
    },
    {
      "cell_type": "markdown",
      "source": "# モンテカルロ法による円周率の概算",
      "metadata": {}
    },
    {
      "cell_type": "markdown",
      "source": "ここからは、*モンテカルロ法*を用いた円周率（$\\pi$）計算の実験を行います。",
      "metadata": {}
    },
    {
      "cell_type": "markdown",
      "source": "## 円周率の求め方",
      "metadata": {}
    },
    {
      "cell_type": "markdown",
      "source": "これまで皆さんは円周率（$\\pi$）は既知のもの（与えられたもの）として、円の周（$2 \\pi r$）や面積（$\\pi r^2$）の計算を行ってきたことでしょう。しかし、そもそもこの「円周率（$\\pi$）」それ自体は、一体どのようにして求めることができるのでしょうか。\n\n今、１辺が２の正方形に内接する、半径が１の円について考えます。\nすると、この円の面積は「面積=$\\pi \\times 1^2 = \\pi$」です。\n従って、**なんらかの方法**で面積を先に求めることができれば、それは円周率（$\\pi$）を求めたことになります。\n\n![](https://raw.githubusercontent.com/kim-kic/kagi-hs/main/fig/circle0.png)\n\nしかし、面積を先に求めることなんてできるのでしょうか。\n\n次の段落では、**モンテカルロ法**と呼ばれるコンピューター・シミュレーションを用いればそれが可能であることを示します。",
      "metadata": {}
    },
    {
      "cell_type": "markdown",
      "source": "## モンテカルロ法",
      "metadata": {}
    },
    {
      "cell_type": "markdown",
      "source": "（１）　三角形の場合\n\n例えば、以下の図の中に１0００個の点をランダムに打ち、そのうちの503個が三角形の中に入ったとします。\nすると、二つの図形の面積比は$f = \\frac{三角形の面積}{正方形の面積} = \\frac{503}{1000} = 0.503$と見積もることができます。\n従って、三角形の面積は正方形の面積($2\\times2=4$)を用いて、$4 \\times f = 4 \\times 0.503 = 2.012$と**実験的に**計算することができます。\nここで、三角形の面積（底辺$\\times$高さ÷２）の「真の値」は$2\\times2\\times\\frac{1}{2} = 2$ですから、若干のズレが生じていますが、点の数を増やせば増やすほど、「実験値」は限りなく「真の値」に近づきます。\n\n![](https://raw.githubusercontent.com/kim-kic/kagi-hs/main/fig/triangle.png)\n\n\n（2）　変な形の図形の場合\n\n同様に、以下の図の中に１0００個の点をランダムに打ち、そのうちの354個が星形の図形の中に入ったとします。\nすると、二つの図形の面積比は$f = \\frac{星形の図形の面積}{正方形の面積} = \\frac{354}{1000} = 0.354$と見積もることができます。\n従って、星形の図形の面積は正方形の面積($2\\times2=4$)を用いて、$4\\times f = 4 \\times 0.354 = 1.416$と**実験的に**計算することができます。\n\n![](https://raw.githubusercontent.com/kim-kic/kagi-hs/main/fig/star.png)\n\n（３）　円の場合\n\n同様に、以下の図の中に１0００個の点をランダムに打ち、そのうちの□個が円の中に入ったとします。\nすると、二つの図形の面積比は$f = \\frac{円の面積}{正方形の面積} = \\frac{□}{1000} $と見積もることができます。\n従って、円の面積は正方形の面積($2\\times2=4$)を用いて、$4\\times f = $と**実験的に**計算することができます。\n\nここで、□と$f=\\frac{□}{1000}$はいくつになるのでしょうか。今から実験してみましょう。\n\n![](https://raw.githubusercontent.com/kim-kic/kagi-hs/main/fig/circle.png)",
      "metadata": {}
    },
    {
      "cell_type": "markdown",
      "source": "## ライブラリを準備",
      "metadata": {}
    },
    {
      "cell_type": "markdown",
      "source": "はじめに、「ライブラリ」を使う準備をします。「ライブラリ」とは、複雑な処理を簡単に実行するために予め書かれたプログラムの塊です。",
      "metadata": {}
    },
    {
      "cell_type": "code",
      "source": "# 数値計算用ライブラリ（numpy）をインポート\nimport numpy as np\n\n# 描画用ライブラリ（matplotlib）をインポート\nimport matplotlib.pyplot as plt\nimport matplotlib.patches as pch",
      "metadata": {
        "trusted": true
      },
      "execution_count": 108,
      "outputs": []
    },
    {
      "cell_type": "markdown",
      "source": "## 試行回数を設定",
      "metadata": {}
    },
    {
      "cell_type": "markdown",
      "source": "以下では、簡単のため10回のデータを生成します。（この値は後から自由に変えてみてください。）",
      "metadata": {}
    },
    {
      "cell_type": "code",
      "source": "num_trial = 10",
      "metadata": {
        "trusted": true
      },
      "execution_count": 109,
      "outputs": []
    },
    {
      "cell_type": "code",
      "source": "num_trial",
      "metadata": {
        "trusted": true
      },
      "execution_count": 110,
      "outputs": [
        {
          "execution_count": 110,
          "output_type": "execute_result",
          "data": {
            "text/plain": "10"
          },
          "metadata": {}
        }
      ]
    },
    {
      "cell_type": "markdown",
      "source": "## x座標を生成",
      "metadata": {
        "tags": []
      }
    },
    {
      "cell_type": "markdown",
      "source": "``numpy``の``random.uniform``という関数を使うと、指定区間（今回は-1から１まで）の数を``num_traial``の数だけランダムに生成することができます。",
      "metadata": {}
    },
    {
      "cell_type": "code",
      "source": "# x座標をランダムに生成\nx = np.random.uniform(-1,1,num_trial)",
      "metadata": {
        "trusted": true
      },
      "execution_count": 111,
      "outputs": []
    },
    {
      "cell_type": "code",
      "source": "x",
      "metadata": {
        "trusted": true
      },
      "execution_count": 112,
      "outputs": [
        {
          "execution_count": 112,
          "output_type": "execute_result",
          "data": {
            "text/plain": "array([ 0.53754603,  0.02626124, -0.01296169, -0.65922245,  0.74353554,\n        0.65678887,  0.61116715,  0.09642023,  0.65551378, -0.51259777])"
          },
          "metadata": {}
        }
      ]
    },
    {
      "cell_type": "markdown",
      "source": "## y座標を生成",
      "metadata": {
        "tags": []
      }
    },
    {
      "cell_type": "markdown",
      "source": "``numpy``の``random.rand``という関数を使うと、0から１までの数を``num_traial``の数だけランダムに生成することができます。",
      "metadata": {}
    },
    {
      "cell_type": "code",
      "source": "# y座標をランダムに生成\ny = np.random.uniform(-1,1,num_trial)",
      "metadata": {
        "trusted": true
      },
      "execution_count": 113,
      "outputs": []
    },
    {
      "cell_type": "code",
      "source": "y",
      "metadata": {
        "trusted": true
      },
      "execution_count": 114,
      "outputs": [
        {
          "execution_count": 114,
          "output_type": "execute_result",
          "data": {
            "text/plain": "array([-0.20407961, -0.00527334, -0.25666868,  0.35582823, -0.26497727,\n        0.95171907,  0.63682443,  0.7853422 , -0.95617605,  0.55859846])"
          },
          "metadata": {}
        }
      ]
    },
    {
      "cell_type": "markdown",
      "source": "## 点の図示",
      "metadata": {}
    },
    {
      "cell_type": "markdown",
      "source": "作った点を図に描画してみましょう。",
      "metadata": {}
    },
    {
      "cell_type": "code",
      "source": "# 図を描くための準備（台紙figと付箋axを用意）\nfig, ax = plt.subplots()\n\n# 付箋にデータを散布図として描画（引数：x座標、y座標、点の形状）\nax.scatter(x, y, marker='.')\n\n# 円を作成（引数：中心の座標、半径、塗りつぶしの色、透明度）\nc = pch.Circle(xy=(0, 0), radius=1, fc='r', alpha=.2)\n\n# 円を付箋に描画\nax.add_patch(c)\n\n# 軸の縦横比を揃える\nax.set_aspect('equal')\n\n# 軸のメモリを設定(-1から１までに５つの点を等間隔で作成)\nax.set_xticks(np.linspace(-1, 1, 5))\nax.set_yticks(np.linspace(-1, 1, 5))\n\n# マス目を表示\nax.grid(True)\n\n# 描画\nplt.show()",
      "metadata": {
        "trusted": true
      },
      "execution_count": 115,
      "outputs": [
        {
          "output_type": "display_data",
          "data": {
            "text/plain": "<pyolite.display.Image at 0x3c36150>",
            "image/png": "[encoded data removed]"
          },
          "metadata": {}
        }
      ]
    },
    {
      "cell_type": "markdown",
      "source": "## 円の中に入ったかどうかの判定",
      "metadata": {}
    },
    {
      "cell_type": "markdown",
      "source": "はじめに、三平方の定理を使用して各点の原点からの距離を求めます。\n\n$$ r^2 = a^2 + b^2$$\n\n$$ r = \\sqrt{a^2 + b^2}$$",
      "metadata": {}
    },
    {
      "cell_type": "markdown",
      "source": "![](https://raw.githubusercontent.com/kim-kic/kagi-hs/main/fig/Pythagorean_theorem.png)",
      "metadata": {}
    },
    {
      "cell_type": "markdown",
      "source": "``numpy``の`sqrt`という関数を使うと、平方根(square root)を求めることができます。",
      "metadata": {}
    },
    {
      "cell_type": "code",
      "source": "r = np.sqrt(x**2 + y**2)",
      "metadata": {
        "trusted": true
      },
      "execution_count": 116,
      "outputs": []
    },
    {
      "cell_type": "code",
      "source": "r",
      "metadata": {
        "trusted": true
      },
      "execution_count": 117,
      "outputs": [
        {
          "execution_count": 117,
          "output_type": "execute_result",
          "data": {
            "text/plain": "array([0.57498193, 0.02678546, 0.25699575, 0.7491248 , 0.78934026,\n       1.15634804, 0.88264978, 0.79123905, 1.15929761, 0.75814821])"
          },
          "metadata": {}
        }
      ]
    },
    {
      "cell_type": "markdown",
      "source": "次に、「比較演算子」というものを使って、原点からの距離が1未満かどうか判別します。\n\n「`True`」は１未満を「`False`」は１以上を意味します。",
      "metadata": {}
    },
    {
      "cell_type": "code",
      "source": "r < 1",
      "metadata": {
        "trusted": true
      },
      "execution_count": 118,
      "outputs": [
        {
          "execution_count": 118,
          "output_type": "execute_result",
          "data": {
            "text/plain": "array([ True,  True,  True,  True,  True, False,  True,  True, False,\n        True])"
          },
          "metadata": {}
        }
      ]
    },
    {
      "cell_type": "markdown",
      "source": "この結果を`sum`という関数の引数に与えると、「`True`」の数を数えることができます。",
      "metadata": {}
    },
    {
      "cell_type": "code",
      "source": "sum(r < 1)",
      "metadata": {
        "trusted": true
      },
      "execution_count": 119,
      "outputs": [
        {
          "execution_count": 119,
          "output_type": "execute_result",
          "data": {
            "text/plain": "8"
          },
          "metadata": {}
        }
      ]
    },
    {
      "cell_type": "markdown",
      "source": "この結果を、`num_in`という変数に代入しておきます。",
      "metadata": {}
    },
    {
      "cell_type": "code",
      "source": "num_in = sum(r<1)",
      "metadata": {
        "trusted": true
      },
      "execution_count": 120,
      "outputs": []
    },
    {
      "cell_type": "code",
      "source": "num_in",
      "metadata": {
        "trusted": true
      },
      "execution_count": 121,
      "outputs": [
        {
          "execution_count": 121,
          "output_type": "execute_result",
          "data": {
            "text/plain": "8"
          },
          "metadata": {}
        }
      ]
    },
    {
      "cell_type": "markdown",
      "source": "## 円と正方形の面積比",
      "metadata": {}
    },
    {
      "cell_type": "markdown",
      "source": "以上から、円と正方形の面積比は以下のように**実験的に**求まりました。",
      "metadata": {}
    },
    {
      "cell_type": "code",
      "source": "f = num_in/num_trial",
      "metadata": {
        "trusted": true
      },
      "execution_count": 122,
      "outputs": []
    },
    {
      "cell_type": "code",
      "source": "f",
      "metadata": {
        "trusted": true
      },
      "execution_count": 123,
      "outputs": [
        {
          "execution_count": 123,
          "output_type": "execute_result",
          "data": {
            "text/plain": "0.8"
          },
          "metadata": {}
        }
      ]
    },
    {
      "cell_type": "markdown",
      "source": "## 円周率の推定値",
      "metadata": {}
    },
    {
      "cell_type": "markdown",
      "source": "従って、円周率の推定値は以下のように求まります。",
      "metadata": {}
    },
    {
      "cell_type": "code",
      "source": "pi = 4*f",
      "metadata": {
        "trusted": true
      },
      "execution_count": 124,
      "outputs": []
    },
    {
      "cell_type": "code",
      "source": "pi",
      "metadata": {
        "trusted": true
      },
      "execution_count": 125,
      "outputs": [
        {
          "execution_count": 125,
          "output_type": "execute_result",
          "data": {
            "text/plain": "3.2"
          },
          "metadata": {}
        }
      ]
    },
    {
      "cell_type": "markdown",
      "source": "## まとめて実行",
      "metadata": {}
    },
    {
      "cell_type": "markdown",
      "source": "ここでは、これまでの計算を全て一つにまとめました。\n``num_traial``の数字を変えることで、円周率($\\pi$)の実験値がどのように変化するか調べてみましょう。",
      "metadata": {}
    },
    {
      "cell_type": "code",
      "source": "# ライブラリの準備\nimport numpy as np\nimport matplotlib.pyplot as plt\nimport matplotlib.patches as pch\n\n# 試行回数\nnum_trial = 100\n\n# 座標を生成\nx = np.random.uniform(-1,1,num_trial)\ny = np.random.uniform(-1,1,num_trial)\n\n# 原点からの距離\nr = np.sqrt(x**2 + y**2)\n\n# 円の中に入った点の個数\nnum_in = sum(r<1)\n\n# 円の面積と正方形の面積の比\nf = num_in/num_trial\n\n# 円周率の推定値\npi = 4*f\n\nprint(f'試行回数: {num_trial:,}回')\nprint('円周率の実験値: ', pi)\n\n# 描画\nfig, ax = plt.subplots()\nax.scatter(x, y, marker='.')\nc = pch.Circle(xy=(0, 0), radius=1, fc='r', alpha=.3)\nax.add_patch(c)\nax.set_aspect('equal')\nax.set_xticks(np.linspace(-1, 1, 5))\nax.set_yticks(np.linspace(-1, 1, 5))\nax.grid(True)\nplt.show()",
      "metadata": {
        "colab": {
          "base_uri": "https://localhost:8080/"
        },
        "id": "Gpl8abIpu29j",
        "outputId": "281c3864-532f-4791-957a-3cb028edfe66",
        "trusted": true
      },
      "execution_count": 126,
      "outputs": [
        {
          "name": "stdout",
          "text": "試行回数: 100回\n円周率の実験値:  3.04\n",
          "output_type": "stream"
        },
        {
          "output_type": "display_data",
          "data": {
            "text/plain": "<pyolite.display.Image at 0x301c290>",
            "image/png": "[encoded data removed]"
          },
          "metadata": {}
        }
      ]
    },
    {
      "cell_type": "markdown",
      "source": "# 今後の学びに向けて",
      "metadata": {}
    },
    {
      "cell_type": "markdown",
      "source": "## Pythonの学習",
      "metadata": {}
    },
    {
      "cell_type": "markdown",
      "source": "興味を持った学生は、ウェブサイトやYouTubeで自分にあった教材を探して気軽に学習を始めてみましょう。\n\n（その後、もっと興味が出てきたら、書店で自分に合った本を探して購入しましょう。）\n\n- 無料オンライン学習サイトの例\n  - [paiza](https://paiza.jp/works/)\n  - [progate](https://prog-8.com/dashboard)\n\n- 無料YouTube動画の例\n  - [Pythonプログラミング VTuber サプー](https://www.youtube.com/@pythonvtuber9917)\n",
      "metadata": {}
    },
    {
      "cell_type": "code",
      "source": "from IPython.display import YouTubeVideo\nYouTubeVideo('https://www.youtube.com/watch?v=WedaSgxk_18&list=PLiaZfx-34L5oK_8hLi_jbmFfZgZoGCqnr&index=5', width=600, height=400)",
      "metadata": {
        "id": "CGZTLoXv1go_",
        "trusted": true
      },
      "execution_count": 127,
      "outputs": [
        {
          "execution_count": 127,
          "output_type": "execute_result",
          "data": {
            "text/plain": "<IPython.lib.display.YouTubeVideo at 0x2d9d440>",
            "text/html": "\n        <iframe\n            width=\"600\"\n            height=\"400\"\n            src=\"https://www.youtube.com/embed/https://www.youtube.com/watch?v=WedaSgxk_18&list=PLiaZfx-34L5oK_8hLi_jbmFfZgZoGCqnr&index=5\"\n            frameborder=\"0\"\n            allowfullscreen\n            \n        ></iframe>\n        "
          },
          "metadata": {}
        }
      ]
    },
    {
      "cell_type": "markdown",
      "source": "## Pythonを動かす環境\n\n1. ウェブブラウザ上で実行\n    - 先程紹介したオンライン学習サイト\n    - [Try Jupyter](https://jupyter.org/try-jupyter/lab/)（易）＊今日の授業で利用\n    - [Google Colaboratory](https://colab.research.google.com/)（易）\n        - Googleアカウントを作成する必要（無料）\n        - 永続的な利用が可能（時間制限あり）\n    - [Amazon SageMaker Studio Lab](https://studiolab.sagemaker.aws/)（難）\n        - 専用アカウントを作成する必要（無料）\n        - より柔軟な環境構築が可能\n\n2. ローカル実行環境を構築（難）\n\n",
      "metadata": {}
    },
    {
      "cell_type": "markdown",
      "source": "# 倉庫",
      "metadata": {
        "tags": []
      }
    },
    {
      "cell_type": "code",
      "source": "import matplotlib.pyplot as plt\nfrom matplotlib.path import Path\nimport matplotlib.patches as patches\nimport numpy as np\n\nh=-1.\nv=-1.\nverts = [\n    (-1.0, -1.0),\n    ( 1.0, -1.0),\n    ( 1.0,  1.0),\n    (-1.0, -1.0),\n]\n\ncodes = [Path.MOVETO,Path.LINETO,Path.LINETO,Path.CLOSEPOLY,]\n\npath = Path(verts, codes)\n\nfig, axs = plt.subplots(1,2, figsize=(8,3))\npatch = patches.PathPatch(path, fc='r', alpha=.1, ec='r')\naxs[0].add_patch(patch)\naxs[0].set_xlim(-1, 1)\naxs[0].set_ylim(-1, 1)\nax.set_xticks(np.linspace(-1, 1, 5))\nax.set_yticks(np.linspace(-1, 1, 5))\naxs[0].set_aspect('equal')\n#plt.show()\n\nnum_trial = 500\n\nx_abs = np.random.rand(num_trial)\nx_sign = np.random.choice([-1,1], num_trial)\nx_val = x_abs*x_sign\n\ny_abs = np.random.rand(num_trial)\ny_sign = np.random.choice([-1,1], num_trial)\ny_val = y_abs*y_sign\n\n#fig, ax = plt.subplots()\npatch = patches.PathPatch(path, fc='r', alpha=.1, ec='r')\naxs[1].add_patch(patch)\naxs[1].scatter(x_val, y_val, marker='.')\naxs[1].set_xlim(-1, 1)\naxs[1].set_ylim(-1, 1)\nax.set_xticks(np.linspace(-1, 1, 5))\nax.set_yticks(np.linspace(-1, 1, 5))\naxs[1].set_aspect('equal')\n#plt.savefig('triangle.png')\nplt.show()",
      "metadata": {
        "trusted": true
      },
      "execution_count": 128,
      "outputs": [
        {
          "output_type": "display_data",
          "data": {
            "text/plain": "<pyolite.display.Image at 0x3b2afa8>",
            "image/png": "[encoded data removed]"
          },
          "metadata": {}
        }
      ]
    },
    {
      "cell_type": "code",
      "source": "h=-1.\nv=-1.\nverts = [\n    (1.0+h, 1.9+v),\n    (1.3+h, 1.4+v),\n    (1.9+h, 1.5+v),\n    (1.4+h, 1.0+v),\n    (1.7+h, 0.1+v),\n    (0.9+h, 0.7+v),\n    (0.2+h, 0.2+v),\n    (0.5+h, 1.0+v),\n    (0.1+h, 1.5+v),\n    (0.8+h, 1.5+v),    \n    (1.0+h, 2.0+v),\n]\n\ncodes = [Path.MOVETO,Path.LINETO,Path.LINETO,Path.LINETO,Path.LINETO,Path.LINETO,Path.LINETO,Path.LINETO,Path.LINETO,Path.LINETO,Path.CLOSEPOLY,]\n\npath = Path(verts, codes)\n\nfig, axs = plt.subplots(1,2, figsize=(8,3))\npatch = patches.PathPatch(path, fc='r', alpha=.1, ec='r')\naxs[0].add_patch(patch)\naxs[0].set_xlim(-1, 1)\naxs[0].set_ylim(-1, 1)\nax.set_xticks(np.linspace(-1, 1, 5))\nax.set_yticks(np.linspace(-1, 1, 5))\naxs[0].set_aspect('equal')\n#plt.show()\n\nnum_trial = 500\n\nx_abs = np.random.rand(num_trial)\nx_sign = np.random.choice([-1,1], num_trial)\nx_val = x_abs*x_sign\n\ny_abs = np.random.rand(num_trial)\ny_sign = np.random.choice([-1,1], num_trial)\ny_val = y_abs*y_sign\n\n#fig, ax = plt.subplots()\npatch = patches.PathPatch(path, fc='r', alpha=.1, ec='r')\naxs[1].add_patch(patch)\naxs[1].scatter(x_val, y_val, marker='.')\naxs[1].set_xlim(-1, 1)\naxs[1].set_ylim(-1, 1)\nax.set_xticks(np.linspace(-1, 1, 5))\nax.set_yticks(np.linspace(-1, 1, 5))\naxs[1].set_aspect('equal')\n#plt.savefig('star.png')\nplt.show()",
      "metadata": {
        "trusted": true
      },
      "execution_count": 129,
      "outputs": [
        {
          "output_type": "display_data",
          "data": {
            "text/plain": "<pyolite.display.Image at 0x3b24b98>",
            "image/png": "[encoded data removed]"
          },
          "metadata": {}
        }
      ]
    },
    {
      "cell_type": "code",
      "source": "fig, axs = plt.subplots(1,2, figsize=(8,3))\n\nc = pch.Circle(xy=(0, 0), radius=1, fc='r', alpha=.1)\naxs[0].add_patch(c)\naxs[0].set_xlim(-1, 1)\naxs[0].set_ylim(-1, 1)\nax.set_xticks(np.linspace(-1, 1, 5))\nax.set_yticks(np.linspace(-1, 1, 5))\naxs[0].set_aspect('equal')\n#plt.show()\n\nnum_trial = 500\n\nx_abs = np.random.rand(num_trial)\nx_sign = np.random.choice([-1,1], num_trial)\nx_val = x_abs*x_sign\n\ny_abs = np.random.rand(num_trial)\ny_sign = np.random.choice([-1,1], num_trial)\ny_val = y_abs*y_sign\n\n#fig, ax = plt.subplots()\nc = pch.Circle(xy=(0, 0), radius=1, fc='r', alpha=.1)\naxs[1].add_patch(c)\naxs[1].scatter(x_val, y_val, marker='.')\naxs[1].set_xlim(-1, 1)\naxs[1].set_ylim(-1, 1)\nax.set_xticks(np.linspace(-1, 1, 5))\nax.set_yticks(np.linspace(-1, 1, 5))\naxs[1].set_aspect('equal')\n#plt.savefig('circle.png')\nplt.show()",
      "metadata": {
        "trusted": true
      },
      "execution_count": 130,
      "outputs": [
        {
          "output_type": "display_data",
          "data": {
            "text/plain": "<pyolite.display.Image at 0x4548858>",
            "image/png": "[encoded data removed]"
          },
          "metadata": {}
        }
      ]
    },
    {
      "cell_type": "code",
      "source": "fig, ax = plt.subplots(figsize=(3,3))\nc = pch.Circle(xy=(0, 0), radius=1, fc='none', ec='k')\nax.add_patch(c)\nax.set_xlim(-1,1)\nax.set_ylim(-1,1)\nax.set_xticks(np.linspace(-1, 1, 5))\nax.set_yticks(np.linspace(-1, 1, 5))\nax.set_aspect('equal')\nax.grid(True)\n#plt.savefig('circle0.png')\nplt.show()",
      "metadata": {
        "trusted": true
      },
      "execution_count": 131,
      "outputs": [
        {
          "output_type": "display_data",
          "data": {
            "text/plain": "<pyolite.display.Image at 0x30e9c70>",
            "image/png": "[encoded data removed]"
          },
          "metadata": {}
        }
      ]
    },
    {
      "cell_type": "code",
      "source": "",
      "metadata": {},
      "execution_count": null,
      "outputs": []
    }
  ]
}