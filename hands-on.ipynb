{
  "metadata": {
    "colab": {
      "provenance": []
    },
    "kernelspec": {
      "name": "python",
      "display_name": "Python (Pyodide)",
      "language": "python"
    },
    "language_info": {
      "codemirror_mode": {
        "name": "python",
        "version": 3
      },
      "file_extension": ".py",
      "mimetype": "text/x-python",
      "name": "python",
      "nbconvert_exporter": "python",
      "pygments_lexer": "ipython3",
      "version": "3.8"
    },
    "toc-autonumbering": true
  },
  "nbformat_minor": 4,
  "nbformat": 4,
  "cells": [
    {
      "cell_type": "markdown",
      "source": "# Python体験授業",
      "metadata": {}
    },
    {
      "cell_type": "markdown",
      "source": "## 目標",
      "metadata": {}
    },
    {
      "cell_type": "markdown",
      "source": "- Pythonプログラミングの雰囲気を掴む\n- 次の学習アクションを起こせる",
      "metadata": {}
    },
    {
      "cell_type": "markdown",
      "source": "## 授業の概要\n\n- 先生が\n  - やること\n    - Pythonの（超）基本について解説\n    - Pythonを使った「円周率の計算」を体験\n    - 今後の学習に向けた資料の紹介\n\n  - やらないこと\n    - 詳しい話\n    - 厳密な話\n\n- 皆さんが\n  - やること\n    - 「手を動かす」\n      - 自分のプログラムを実行してみる\n        - 実行手順\n        1. 灰色のセルをクリック\n        2. 「CTRL」キーを押しながら 「Enter」を押す\n      - 数字や文字を、自分なりに変えて実行してみる\n    - 「頭を動かす」\n      - 何が起きているか考えてみる\n  - やらないこと\n    - 怖がる（壊れたりしないので大丈夫です）\n    - 理解できないから落ち込む（50分で全てを理解するのは厳しいです）",
      "metadata": {}
    },
    {
      "cell_type": "markdown",
      "source": "## プログラミングとは",
      "metadata": {}
    },
    {
      "cell_type": "markdown",
      "source": "- プログラム（コンピューターへの指示書）を書いて実行すること。\n- 今回はPythonと呼ばれる「言語」を用いて、プログラミングを行います。",
      "metadata": {
        "tags": []
      }
    },
    {
      "cell_type": "markdown",
      "source": "# Pythonの（超）基本",
      "metadata": {
        "tags": []
      }
    },
    {
      "cell_type": "markdown",
      "source": "## データの種類",
      "metadata": {
        "tags": []
      }
    },
    {
      "cell_type": "markdown",
      "source": "### 数値",
      "metadata": {
        "tags": []
      }
    },
    {
      "cell_type": "code",
      "source": "1",
      "metadata": {
        "trusted": true
      },
      "execution_count": 141,
      "outputs": [
        {
          "execution_count": 141,
          "output_type": "execute_result",
          "data": {
            "text/plain": "1"
          },
          "metadata": {}
        }
      ]
    },
    {
      "cell_type": "code",
      "source": "-273",
      "metadata": {
        "trusted": true
      },
      "execution_count": 142,
      "outputs": [
        {
          "execution_count": 142,
          "output_type": "execute_result",
          "data": {
            "text/plain": "-273"
          },
          "metadata": {}
        }
      ]
    },
    {
      "cell_type": "code",
      "source": "3.14",
      "metadata": {
        "trusted": true
      },
      "execution_count": 143,
      "outputs": [
        {
          "execution_count": 143,
          "output_type": "execute_result",
          "data": {
            "text/plain": "3.14"
          },
          "metadata": {}
        }
      ]
    },
    {
      "cell_type": "code",
      "source": "2/3",
      "metadata": {
        "trusted": true
      },
      "execution_count": 144,
      "outputs": [
        {
          "execution_count": 144,
          "output_type": "execute_result",
          "data": {
            "text/plain": "0.6666666666666666"
          },
          "metadata": {}
        }
      ]
    },
    {
      "cell_type": "markdown",
      "source": "### 文字列",
      "metadata": {}
    },
    {
      "cell_type": "code",
      "source": "'Hello World'",
      "metadata": {
        "trusted": true
      },
      "execution_count": 145,
      "outputs": [
        {
          "execution_count": 145,
          "output_type": "execute_result",
          "data": {
            "text/plain": "'Hello World'"
          },
          "metadata": {}
        }
      ]
    },
    {
      "cell_type": "code",
      "source": "'ようこそ科技高へ'",
      "metadata": {
        "trusted": true
      },
      "execution_count": 146,
      "outputs": [
        {
          "execution_count": 146,
          "output_type": "execute_result",
          "data": {
            "text/plain": "'ようこそ科技高へ'"
          },
          "metadata": {}
        }
      ]
    },
    {
      "cell_type": "markdown",
      "source": "## 四則演算",
      "metadata": {
        "tags": []
      }
    },
    {
      "cell_type": "markdown",
      "source": "足し算： +<br>\n引き算： -<br>\n掛け算： *<br>\n割り算： /<br>\n累乗$a^b$： a**b<br>",
      "metadata": {}
    },
    {
      "cell_type": "code",
      "source": "1 + 2",
      "metadata": {
        "tags": [],
        "trusted": true
      },
      "execution_count": 147,
      "outputs": [
        {
          "execution_count": 147,
          "output_type": "execute_result",
          "data": {
            "text/plain": "3"
          },
          "metadata": {}
        }
      ]
    },
    {
      "cell_type": "code",
      "source": "1 - 2",
      "metadata": {
        "trusted": true
      },
      "execution_count": 148,
      "outputs": [
        {
          "execution_count": 148,
          "output_type": "execute_result",
          "data": {
            "text/plain": "-1"
          },
          "metadata": {}
        }
      ]
    },
    {
      "cell_type": "code",
      "source": "1 * 2",
      "metadata": {
        "trusted": true
      },
      "execution_count": 149,
      "outputs": [
        {
          "execution_count": 149,
          "output_type": "execute_result",
          "data": {
            "text/plain": "2"
          },
          "metadata": {}
        }
      ]
    },
    {
      "cell_type": "code",
      "source": "1 / 2",
      "metadata": {
        "trusted": true
      },
      "execution_count": 150,
      "outputs": [
        {
          "execution_count": 150,
          "output_type": "execute_result",
          "data": {
            "text/plain": "0.5"
          },
          "metadata": {}
        }
      ]
    },
    {
      "cell_type": "code",
      "source": "2**3",
      "metadata": {
        "trusted": true
      },
      "execution_count": 151,
      "outputs": [
        {
          "execution_count": 151,
          "output_type": "execute_result",
          "data": {
            "text/plain": "8"
          },
          "metadata": {}
        }
      ]
    },
    {
      "cell_type": "markdown",
      "source": "## 変数",
      "metadata": {}
    },
    {
      "cell_type": "markdown",
      "source": "データを保持しておく箱のようなもの。後から値を取り出せる",
      "metadata": {}
    },
    {
      "cell_type": "code",
      "source": "a = 1",
      "metadata": {
        "trusted": true
      },
      "execution_count": 152,
      "outputs": []
    },
    {
      "cell_type": "code",
      "source": "a",
      "metadata": {
        "trusted": true
      },
      "execution_count": 153,
      "outputs": [
        {
          "execution_count": 153,
          "output_type": "execute_result",
          "data": {
            "text/plain": "1"
          },
          "metadata": {}
        }
      ]
    },
    {
      "cell_type": "code",
      "source": "b = 2",
      "metadata": {
        "trusted": true
      },
      "execution_count": 154,
      "outputs": []
    },
    {
      "cell_type": "code",
      "source": "b",
      "metadata": {
        "trusted": true
      },
      "execution_count": 155,
      "outputs": [
        {
          "execution_count": 155,
          "output_type": "execute_result",
          "data": {
            "text/plain": "2"
          },
          "metadata": {}
        }
      ]
    },
    {
      "cell_type": "markdown",
      "source": "計算に利用できる。",
      "metadata": {}
    },
    {
      "cell_type": "code",
      "source": "a + b",
      "metadata": {
        "trusted": true
      },
      "execution_count": 156,
      "outputs": [
        {
          "execution_count": 156,
          "output_type": "execute_result",
          "data": {
            "text/plain": "3"
          },
          "metadata": {}
        }
      ]
    },
    {
      "cell_type": "code",
      "source": "a / b",
      "metadata": {
        "trusted": true
      },
      "execution_count": 157,
      "outputs": [
        {
          "execution_count": 157,
          "output_type": "execute_result",
          "data": {
            "text/plain": "0.5"
          },
          "metadata": {}
        }
      ]
    },
    {
      "cell_type": "code",
      "source": "b**3",
      "metadata": {
        "trusted": true
      },
      "execution_count": 158,
      "outputs": [
        {
          "execution_count": 158,
          "output_type": "execute_result",
          "data": {
            "text/plain": "8"
          },
          "metadata": {}
        }
      ]
    },
    {
      "cell_type": "code",
      "source": "welcome = 'ようこそ科技高へ'",
      "metadata": {
        "trusted": true
      },
      "execution_count": 159,
      "outputs": []
    },
    {
      "cell_type": "code",
      "source": "welcome",
      "metadata": {
        "trusted": true
      },
      "execution_count": 160,
      "outputs": [
        {
          "execution_count": 160,
          "output_type": "execute_result",
          "data": {
            "text/plain": "'ようこそ科技高へ'"
          },
          "metadata": {}
        }
      ]
    },
    {
      "cell_type": "markdown",
      "source": "## 配列",
      "metadata": {}
    },
    {
      "cell_type": "markdown",
      "source": "複数の値をセットで記憶する変数",
      "metadata": {}
    },
    {
      "cell_type": "code",
      "source": "even = [2, 4, 6]",
      "metadata": {
        "trusted": true
      },
      "execution_count": 161,
      "outputs": []
    },
    {
      "cell_type": "code",
      "source": "even",
      "metadata": {
        "trusted": true
      },
      "execution_count": 162,
      "outputs": [
        {
          "execution_count": 162,
          "output_type": "execute_result",
          "data": {
            "text/plain": "[2, 4, 6]"
          },
          "metadata": {}
        }
      ]
    },
    {
      "cell_type": "markdown",
      "source": "## Print関数",
      "metadata": {}
    },
    {
      "cell_type": "markdown",
      "source": "受け取った数字や文字列を出力する",
      "metadata": {}
    },
    {
      "cell_type": "code",
      "source": "print(0)",
      "metadata": {
        "trusted": true
      },
      "execution_count": 163,
      "outputs": [
        {
          "name": "stdout",
          "text": "0\n",
          "output_type": "stream"
        }
      ]
    },
    {
      "cell_type": "code",
      "source": "print('科技高')",
      "metadata": {
        "trusted": true
      },
      "execution_count": 164,
      "outputs": [
        {
          "name": "stdout",
          "text": "科技高\n",
          "output_type": "stream"
        }
      ]
    },
    {
      "cell_type": "markdown",
      "source": "受け取った変数の中身を出力する",
      "metadata": {}
    },
    {
      "cell_type": "code",
      "source": "print(a)",
      "metadata": {
        "trusted": true
      },
      "execution_count": 165,
      "outputs": [
        {
          "name": "stdout",
          "text": "1\n",
          "output_type": "stream"
        }
      ]
    },
    {
      "cell_type": "code",
      "source": "print(welcome)",
      "metadata": {
        "trusted": true
      },
      "execution_count": 166,
      "outputs": [
        {
          "name": "stdout",
          "text": "ようこそ科技高へ\n",
          "output_type": "stream"
        }
      ]
    },
    {
      "cell_type": "code",
      "source": "print('2022/12/14', welcome)",
      "metadata": {
        "trusted": true
      },
      "execution_count": 167,
      "outputs": [
        {
          "name": "stdout",
          "text": "2022/12/14 ようこそ科技高へ\n",
          "output_type": "stream"
        }
      ]
    },
    {
      "cell_type": "markdown",
      "source": "## コメント",
      "metadata": {}
    },
    {
      "cell_type": "code",
      "source": "# ←行頭にこの記号があると、その行はプログラムではなく、コメント文になる。",
      "metadata": {
        "trusted": true
      },
      "execution_count": 204,
      "outputs": []
    },
    {
      "cell_type": "code",
      "source": "# 変数　welcom　の内容を表示\nprint(welcome)",
      "metadata": {
        "trusted": true
      },
      "execution_count": 206,
      "outputs": [
        {
          "name": "stdout",
          "text": "ようこそ科技高へ\n",
          "output_type": "stream"
        }
      ]
    },
    {
      "cell_type": "markdown",
      "source": "# モンテカルロ法による円周率の概算",
      "metadata": {}
    },
    {
      "cell_type": "markdown",
      "source": "ここからは、*モンテカルロ法*を用いた円周率（$\\pi$）計算の実験を行います。",
      "metadata": {}
    },
    {
      "cell_type": "markdown",
      "source": "## 円周率の求め方",
      "metadata": {}
    },
    {
      "cell_type": "markdown",
      "source": "これまで皆さんは円周率（$\\pi$）は既知のもの（与えられたもの）として、円の周（$2 \\pi r$）や面積（$\\pi r^2$）計算を行ってきたことでしょう。しかし、そもそもこの「円周率（$\\pi$）」それ自体は、一体どのようにして求めることができるのでしょうか。\n\n今、１辺が２の正方形に内接する、半径が１の円について考えます。\nすると、この円の面積は「面積=$\\pi \\times 1^2 = \\pi$」です。\n従って、**なんらかの方法**で面積を先に求めることができれば、それは円周率（$\\pi$）を求めたことになります。\n\n![](https://raw.githubusercontent.com/skim-kic/kagi/main/circle0.png)\n\n以下ではこの面積を先に求める方法として、**モンテカルロ法**を使用します。",
      "metadata": {}
    },
    {
      "cell_type": "markdown",
      "source": "## モンテカルロ法",
      "metadata": {}
    },
    {
      "cell_type": "markdown",
      "source": "（１）　三角形の場合\n\n例えば、以下の図の中に１0００個の点をランダムに打ち、そのうちの503個が三角形の中に入ったとします。\nすると、二つの図形の面積比は$f = \\frac{三角形の面積}{正方形の面積} = \\frac{503}{1000} = 0.503$と見積もることができます。\n従って、三角形の面積は正方形の面積($2\\times2=4$)を用いて、$4 \\times f = 4 \\times 0.503 = 2.012$と**実験的に**計算することができます。\nここで、三角形の面積（底辺$\\times$高さ÷２）の真の値は$2\\times2\\times\\frac{1}{2} = 2$ですから、若干のズレが生じていますが、点の数を増やせば実験値は限りなく真の値に近づきます。\n\n![](https://raw.githubusercontent.com/skim-kic/kagi/main/triangle.png)\n\n\n（2）　変な形の図形の場合\n\n同様に、以下の図の中に１0００個の点をランダムに打ち、そのうちの354個が星形の図形の中に入ったとします。\nすると、二つの図形の面積比は$f = \\frac{星形の図形の面積}{正方形の面積} = \\frac{354}{1000} = 0.354$と見積もることができます。\n従って、星形の図形の面積は正方形の面積($2\\times2=4$)を用いて、$4\\times f = 4 \\times 0.354 = 1.416$と**実験的に**計算することができます。\n\n![](https://raw.githubusercontent.com/skim-kic/kagi/main/star.png)\n\n（３）　円の場合\n\n同様に、以下の図の中に１0００個の点をランダムに打ち、そのうちの□個が円の中に入ったとします。\nすると、二つの図形の面積比は$f = \\frac{円の面積}{正方形の面積} = \\frac{□}{1000} $と見積もることができます。\n従って円の面積は、正方形の面積 $\\times f $と**実験的に**計算することができます。\n\nここで、□と$f=\\frac{□}{1000}$はいくつになるのでしょうか。今から実験してみましょう。\n\n![](https://raw.githubusercontent.com/skim-kic/kagi/main/circle.png)",
      "metadata": {}
    },
    {
      "cell_type": "markdown",
      "source": "## ライブラリを準備",
      "metadata": {}
    },
    {
      "cell_type": "markdown",
      "source": "はじめに、今後行う複雑な処理を簡単に実行することができる「ライブラリ」（プログラムの塊）の利用準備をします。",
      "metadata": {}
    },
    {
      "cell_type": "code",
      "source": "# 数値計算用ライブラリをインポート\nimport numpy as np\n\n# 描画用ライブラリをインポート\nimport matplotlib.pyplot as plt\nimport matplotlib.patches as pch",
      "metadata": {
        "trusted": true
      },
      "execution_count": 168,
      "outputs": []
    },
    {
      "cell_type": "markdown",
      "source": "## 試行回数を設定",
      "metadata": {}
    },
    {
      "cell_type": "markdown",
      "source": "以下では、簡単のため10回のデータを生成します。この値は自由に変えてみてください。",
      "metadata": {}
    },
    {
      "cell_type": "code",
      "source": "num_trial = 10",
      "metadata": {
        "trusted": true
      },
      "execution_count": 169,
      "outputs": []
    },
    {
      "cell_type": "code",
      "source": "num_trial",
      "metadata": {
        "trusted": true
      },
      "execution_count": 170,
      "outputs": [
        {
          "execution_count": 170,
          "output_type": "execute_result",
          "data": {
            "text/plain": "10"
          },
          "metadata": {}
        }
      ]
    },
    {
      "cell_type": "markdown",
      "source": "## x座標を生成",
      "metadata": {
        "tags": []
      }
    },
    {
      "cell_type": "markdown",
      "source": "``random.rand``という関数を使うと、0から１までの数を``num_traial``の数だけランダムに生成することができます。",
      "metadata": {}
    },
    {
      "cell_type": "code",
      "source": "# 絶対値部分をランダムに生成\nx_abs = np.random.rand(num_trial)",
      "metadata": {
        "trusted": true
      },
      "execution_count": 171,
      "outputs": []
    },
    {
      "cell_type": "code",
      "source": "x_abs",
      "metadata": {
        "trusted": true
      },
      "execution_count": 172,
      "outputs": [
        {
          "execution_count": 172,
          "output_type": "execute_result",
          "data": {
            "text/plain": "array([0.47524384, 0.31515889, 0.93358398, 0.30694648, 0.67999865,\n       0.08034403, 0.35024705, 0.70366896, 0.04227394, 0.59480949])"
          },
          "metadata": {}
        }
      ]
    },
    {
      "cell_type": "markdown",
      "source": "``random.choice``という関数を使うと、-1か１を``num_traial``の数だけランダムに選ぶことができます。",
      "metadata": {}
    },
    {
      "cell_type": "code",
      "source": "# 符号部分をランダムに生成\nx_sign = np.random.choice([-1,1], num_trial)",
      "metadata": {
        "trusted": true
      },
      "execution_count": 173,
      "outputs": []
    },
    {
      "cell_type": "code",
      "source": "x_sign",
      "metadata": {
        "trusted": true
      },
      "execution_count": 174,
      "outputs": [
        {
          "execution_count": 174,
          "output_type": "execute_result",
          "data": {
            "text/plain": "array([ 1, -1, -1,  1, -1, -1,  1, -1, -1, -1])"
          },
          "metadata": {}
        }
      ]
    },
    {
      "cell_type": "markdown",
      "source": "xの絶対値``x_abs``に符号``x_sign``を掛け合わせて、xを生成します。",
      "metadata": {}
    },
    {
      "cell_type": "code",
      "source": "# 絶対値に符号をかけてx座標の値を作成\nx = x_abs*x_sign",
      "metadata": {
        "trusted": true
      },
      "execution_count": 175,
      "outputs": []
    },
    {
      "cell_type": "code",
      "source": "x",
      "metadata": {
        "trusted": true
      },
      "execution_count": 176,
      "outputs": [
        {
          "execution_count": 176,
          "output_type": "execute_result",
          "data": {
            "text/plain": "array([ 0.47524384, -0.31515889, -0.93358398,  0.30694648, -0.67999865,\n       -0.08034403,  0.35024705, -0.70366896, -0.04227394, -0.59480949])"
          },
          "metadata": {}
        }
      ]
    },
    {
      "cell_type": "markdown",
      "source": "## y座標を生成",
      "metadata": {
        "tags": []
      }
    },
    {
      "cell_type": "markdown",
      "source": "``random.rand``という関数を使うと、0から１までの数を``num_traial``の数だけランダムに生成することができます。",
      "metadata": {}
    },
    {
      "cell_type": "code",
      "source": "# 絶対値部分をランダムに生成\ny_abs = np.random.rand(num_trial)",
      "metadata": {
        "trusted": true
      },
      "execution_count": 177,
      "outputs": []
    },
    {
      "cell_type": "code",
      "source": "y_abs",
      "metadata": {
        "trusted": true
      },
      "execution_count": 178,
      "outputs": [
        {
          "execution_count": 178,
          "output_type": "execute_result",
          "data": {
            "text/plain": "array([0.08405568, 0.53936337, 0.67147139, 0.03515067, 0.24480407,\n       0.87000602, 0.47874059, 0.62058452, 0.4982017 , 0.31698541])"
          },
          "metadata": {}
        }
      ]
    },
    {
      "cell_type": "markdown",
      "source": "``random.choice``という関数を使うと、-1か１を``num_traial``の数だけランダムに選ぶことができます。",
      "metadata": {}
    },
    {
      "cell_type": "code",
      "source": "# 符号部分をランダムに生成\ny_sign = np.random.choice([-1,1], num_trial)",
      "metadata": {
        "trusted": true
      },
      "execution_count": 179,
      "outputs": []
    },
    {
      "cell_type": "code",
      "source": "y_sign",
      "metadata": {
        "trusted": true
      },
      "execution_count": 180,
      "outputs": [
        {
          "execution_count": 180,
          "output_type": "execute_result",
          "data": {
            "text/plain": "array([-1, -1,  1, -1,  1, -1,  1, -1,  1,  1])"
          },
          "metadata": {}
        }
      ]
    },
    {
      "cell_type": "markdown",
      "source": "yの絶対値``y_abs``に符号``y_sign``を掛け合わせて、yを生成します。",
      "metadata": {}
    },
    {
      "cell_type": "code",
      "source": "# 絶対値に符号をかけてy座標の値を作成\ny = y_abs*x_sign",
      "metadata": {
        "trusted": true
      },
      "execution_count": 181,
      "outputs": []
    },
    {
      "cell_type": "code",
      "source": "y",
      "metadata": {
        "trusted": true
      },
      "execution_count": 182,
      "outputs": [
        {
          "execution_count": 182,
          "output_type": "execute_result",
          "data": {
            "text/plain": "array([ 0.08405568, -0.53936337, -0.67147139,  0.03515067, -0.24480407,\n       -0.87000602,  0.47874059, -0.62058452, -0.4982017 , -0.31698541])"
          },
          "metadata": {}
        }
      ]
    },
    {
      "cell_type": "markdown",
      "source": "## 点の図示",
      "metadata": {}
    },
    {
      "cell_type": "markdown",
      "source": "作った点を図に描画してみましょう。",
      "metadata": {}
    },
    {
      "cell_type": "code",
      "source": "# 図を描くための準備（台紙figと付箋axを用意）\nfig, ax = plt.subplots()\n\n# 付箋にデータを散布図として描画\nax.scatter(x, y, marker='.')\n\n# 円を作成\nc = pch.Circle(xy=(0, 0), radius=1, fc='r', alpha=.2, ec='r')\n\n# 円を付箋に描画\nax.add_patch(c)\n\n# 軸の縦横比を揃える\nax.set_aspect('equal')\n\n# 軸のメモリを設定\nax.set_xticks(np.arange(-1, 1.1, step=0.5))\nax.set_yticks(np.arange(-1, 1.1, step=0.5))\n\n# マス目を表示\nax.grid(True)\n\n# 描画\nplt.show()",
      "metadata": {
        "trusted": true
      },
      "execution_count": 183,
      "outputs": [
        {
          "output_type": "display_data",
          "data": {
            "text/plain": "<pyolite.display.Image at 0x45ed940>",
            "image/png": "[encoded data removed]"
          },
          "metadata": {}
        }
      ]
    },
    {
      "cell_type": "markdown",
      "source": "## 円の中に入ったかどうかの判定",
      "metadata": {}
    },
    {
      "cell_type": "markdown",
      "source": "はじめに、三平方の定理を使用して各点の原点からの距離を求めます。\n\n$$ r^2 = a^2 + b^2$$\n\n$$ r = \\sqrt{a^2 + b^2}$$",
      "metadata": {}
    },
    {
      "cell_type": "markdown",
      "source": "![](https://raw.githubusercontent.com/skim-kic/kagi/main/Pythagorean_theorem.png)",
      "metadata": {}
    },
    {
      "cell_type": "markdown",
      "source": "`sqrt`という関数を使うと、平方根(square root)を計算することができます。",
      "metadata": {}
    },
    {
      "cell_type": "code",
      "source": "r = np.sqrt(x**2 + y**2)",
      "metadata": {
        "trusted": true
      },
      "execution_count": 209,
      "outputs": []
    },
    {
      "cell_type": "code",
      "source": "r",
      "metadata": {
        "trusted": true
      },
      "execution_count": 185,
      "outputs": [
        {
          "execution_count": 185,
          "output_type": "execute_result",
          "data": {
            "text/plain": "array([0.48262001, 0.6246903 , 1.14997951, 0.3089526 , 0.72272208,\n       0.87370798, 0.59318256, 0.9382298 , 0.49999202, 0.67400154])"
          },
          "metadata": {}
        }
      ]
    },
    {
      "cell_type": "markdown",
      "source": "次に、「比較演算子」というものを使って、原点からの距離が1未満かどうか判別します。「`True`」は１未満を「`False`」は１以上を意味します。",
      "metadata": {}
    },
    {
      "cell_type": "code",
      "source": "r < 1",
      "metadata": {
        "trusted": true
      },
      "execution_count": 186,
      "outputs": [
        {
          "execution_count": 186,
          "output_type": "execute_result",
          "data": {
            "text/plain": "array([ True,  True, False,  True,  True,  True,  True,  True,  True,\n        True])"
          },
          "metadata": {}
        }
      ]
    },
    {
      "cell_type": "markdown",
      "source": "この結果を`sum`という関数の引数に与えると、「`True`」の数を数えることができます。",
      "metadata": {}
    },
    {
      "cell_type": "code",
      "source": "sum(r < 1)",
      "metadata": {
        "trusted": true
      },
      "execution_count": 187,
      "outputs": [
        {
          "execution_count": 187,
          "output_type": "execute_result",
          "data": {
            "text/plain": "9"
          },
          "metadata": {}
        }
      ]
    },
    {
      "cell_type": "markdown",
      "source": "この結果を、`num_in`という変数に代入してておきます。",
      "metadata": {}
    },
    {
      "cell_type": "code",
      "source": "num_in = sum(r<1)",
      "metadata": {
        "trusted": true
      },
      "execution_count": 188,
      "outputs": []
    },
    {
      "cell_type": "code",
      "source": "num_in",
      "metadata": {
        "trusted": true
      },
      "execution_count": 189,
      "outputs": [
        {
          "execution_count": 189,
          "output_type": "execute_result",
          "data": {
            "text/plain": "9"
          },
          "metadata": {}
        }
      ]
    },
    {
      "cell_type": "markdown",
      "source": "## 円と正方形の面積比",
      "metadata": {}
    },
    {
      "cell_type": "markdown",
      "source": "以上から、円と正方形の面積比は以下のように求まります。",
      "metadata": {}
    },
    {
      "cell_type": "code",
      "source": "f = num_in/num_trial",
      "metadata": {
        "trusted": true
      },
      "execution_count": 190,
      "outputs": []
    },
    {
      "cell_type": "code",
      "source": "f",
      "metadata": {
        "trusted": true
      },
      "execution_count": 191,
      "outputs": [
        {
          "execution_count": 191,
          "output_type": "execute_result",
          "data": {
            "text/plain": "0.9"
          },
          "metadata": {}
        }
      ]
    },
    {
      "cell_type": "markdown",
      "source": "## 円周率の推定値",
      "metadata": {}
    },
    {
      "cell_type": "markdown",
      "source": "従って、円周率の推定値は以下のように求まります。",
      "metadata": {}
    },
    {
      "cell_type": "code",
      "source": "pi = 4*f",
      "metadata": {
        "trusted": true
      },
      "execution_count": 193,
      "outputs": []
    },
    {
      "cell_type": "code",
      "source": "pi",
      "metadata": {
        "trusted": true
      },
      "execution_count": 194,
      "outputs": [
        {
          "execution_count": 194,
          "output_type": "execute_result",
          "data": {
            "text/plain": "3.6"
          },
          "metadata": {}
        }
      ]
    },
    {
      "cell_type": "markdown",
      "source": "## まとめ",
      "metadata": {}
    },
    {
      "cell_type": "markdown",
      "source": "ここでは、これまでの計算を全て一つにまとめました。\n``num_traial``の数字を変えることで、円周率($\\pi$)の実験値がどのように変化するか試してみてください。",
      "metadata": {}
    },
    {
      "cell_type": "code",
      "source": "# ライブラリの準備\nimport numpy as np\nimport matplotlib.pyplot as plt\nimport matplotlib.patches as pch\n\n# 試行回数\nnum_trial = 1000\n\n# 座標を生成\nx_abs = np.random.rand(num_trial)\nx_sign = np.random.choice([-1,1], num_trial)\nx = x_abs*x_sign\n\ny_abs = np.random.rand(num_trial)\ny_sign = np.random.choice([-1,1], num_trial)\ny = y_abs*y_sign\n\n# 原点からの距離\nr = np.sqrt(x**2 + y**2)\n\n# 円の中に入った点の個数\nnum_in = sum(r<1)\n\n# 円の面積と正方形の面積の比\nf = num_in/num_trial\n\n# 円周率の推定値\npi = 4*f\n\nprint(f'試行回数: {num_trial:,}回')\nprint('円周率の推定値: ', pi)\n\nfig, ax = plt.subplots()\nax.scatter(x_val, y_val, marker='.')\nc = pch.Circle(xy=(0, 0), radius=1, fc='r', alpha=.3)\nax.add_patch(c)\nax.set_aspect('equal')\nax.set_xticks(np.arange(-1, 1.1, step=0.5))\nax.set_yticks(np.arange(-1, 1.1, step=0.5))\nax.grid(True)\nplt.show()",
      "metadata": {
        "colab": {
          "base_uri": "https://localhost:8080/"
        },
        "id": "Gpl8abIpu29j",
        "outputId": "281c3864-532f-4791-957a-3cb028edfe66",
        "trusted": true
      },
      "execution_count": 195,
      "outputs": [
        {
          "name": "stdout",
          "text": "試行回数: 1,000回\n円周率の推定値:  3.144\n",
          "output_type": "stream"
        },
        {
          "output_type": "display_data",
          "data": {
            "text/plain": "<pyolite.display.Image at 0x4c78ad0>",
            "image/png": "[encoded data removed]"
          },
          "metadata": {}
        }
      ]
    },
    {
      "cell_type": "markdown",
      "source": "# 今後の学びに向けて",
      "metadata": {}
    },
    {
      "cell_type": "markdown",
      "source": "## Pythonの学習",
      "metadata": {}
    },
    {
      "cell_type": "markdown",
      "source": "興味を持った学生は、ウェブサイトやYouTubeで、自分にあった教材を探して気軽に学習を始めてみましょう。（その後、もっと興味が出てきたら、書店で自分に合った本を探して購入しましょう。）\n\n- 無料オンライン学習サイトの例\n  - [paiza](https://paiza.jp/works/)\n  - [progate](https://prog-8.com/dashboard)\n\n- 無料YouTube動画の例\n  - [Pythonプログラミング VTuber サプー](https://www.youtube.com/@pythonvtuber9917)\n",
      "metadata": {}
    },
    {
      "cell_type": "code",
      "source": "from IPython.display import YouTubeVideo\nYouTubeVideo('https://www.youtube.com/watch?v=WedaSgxk_18&list=PLiaZfx-34L5oK_8hLi_jbmFfZgZoGCqnr&index=5', width=600, height=400)",
      "metadata": {
        "id": "CGZTLoXv1go_",
        "trusted": true
      },
      "execution_count": 196,
      "outputs": [
        {
          "execution_count": 196,
          "output_type": "execute_result",
          "data": {
            "text/plain": "<IPython.lib.display.YouTubeVideo at 0x45c09b8>",
            "text/html": "\n        <iframe\n            width=\"600\"\n            height=\"400\"\n            src=\"https://www.youtube.com/embed/https://www.youtube.com/watch?v=WedaSgxk_18&list=PLiaZfx-34L5oK_8hLi_jbmFfZgZoGCqnr&index=5\"\n            frameborder=\"0\"\n            allowfullscreen\n            \n        ></iframe>\n        "
          },
          "metadata": {}
        }
      ]
    },
    {
      "cell_type": "markdown",
      "source": "## Pythonを動かす環境\n\n1. ウェブブラウザ上で実行\n    - 先程紹介したオンライン学習サイト\n    - [Try Jupyter](https://jupyter.org/try-jupyter/lab/)（易）＊今回利用したもの\n    - [Google Colaboratory](https://colab.research.google.com/)（易）\n        - Googleアカウントを作成する必要（無料）\n        - 永続的な利用が可能（時間制限あり）\n    - [Amazon SageMaker Studio Lab](https://studiolab.sagemaker.aws/)（難）\n        - 専用アカウントを作成する必要（無料）\n        - より柔軟な環境構築が可能\n\n2. ローカル実行環境を構築（難）\n\n",
      "metadata": {}
    },
    {
      "cell_type": "markdown",
      "source": "# 倉庫",
      "metadata": {
        "jp-MarkdownHeadingCollapsed": true,
        "tags": []
      }
    },
    {
      "cell_type": "code",
      "source": "import matplotlib.pyplot as plt\nfrom matplotlib.path import Path\nimport matplotlib.patches as patches\nimport numpy as np\n\nh=-1.\nv=-1.\nverts = [\n    (-1.0, -1.0),\n    ( 1.0, -1.0),\n    ( 1.0,  1.0),\n    (-1.0, -1.0),\n]\n\ncodes = [Path.MOVETO,Path.LINETO,Path.LINETO,Path.CLOSEPOLY,]\n\npath = Path(verts, codes)\n\nfig, axs = plt.subplots(1,2, figsize=(8,3))\npatch = patches.PathPatch(path, fc='r', alpha=.1, ec='r')\naxs[0].add_patch(patch)\naxs[0].set_xlim(-1, 1)\naxs[0].set_ylim(-1, 1)\naxs[0].set_xticks(np.arange(-1, 1.1, step=0.5))\naxs[0].set_yticks(np.arange(-1, 1.1, step=0.5))\naxs[0].set_aspect('equal')\n#plt.show()\n\nnum_trial = 500\n\nx_abs = np.random.rand(num_trial)\nx_sign = np.random.choice([-1,1], num_trial)\nx_val = x_abs*x_sign\n\ny_abs = np.random.rand(num_trial)\ny_sign = np.random.choice([-1,1], num_trial)\ny_val = y_abs*y_sign\n\n#fig, ax = plt.subplots()\npatch = patches.PathPatch(path, fc='r', alpha=.1, ec='r')\naxs[1].add_patch(patch)\naxs[1].scatter(x_val, y_val, marker='.')\naxs[1].set_xlim(-1, 1)\naxs[1].set_ylim(-1, 1)\naxs[1].set_xticks(np.arange(-1, 1.1, step=0.5))\naxs[1].set_yticks(np.arange(-1, 1.1, step=0.5))\naxs[1].set_aspect('equal')\nplt.savefig('triangle.png')\nplt.show()",
      "metadata": {
        "trusted": true
      },
      "execution_count": 197,
      "outputs": [
        {
          "output_type": "display_data",
          "data": {
            "text/plain": "<pyolite.display.Image at 0x4caf648>",
            "image/png": "[encoded data removed]"
          },
          "metadata": {}
        }
      ]
    },
    {
      "cell_type": "code",
      "source": "h=-1.\nv=-1.\nverts = [\n    (1.0+h, 1.9+v),\n    (1.3+h, 1.4+v),\n    (1.9+h, 1.5+v),\n    (1.4+h, 1.0+v),\n    (1.7+h, 0.1+v),\n    (0.9+h, 0.7+v),\n    (0.2+h, 0.2+v),\n    (0.5+h, 1.0+v),\n    (0.1+h, 1.5+v),\n    (0.8+h, 1.5+v),    \n    (1.0+h, 2.0+v),\n]\n\ncodes = [Path.MOVETO,Path.LINETO,Path.LINETO,Path.LINETO,Path.LINETO,Path.LINETO,Path.LINETO,Path.LINETO,Path.LINETO,Path.LINETO,Path.CLOSEPOLY,]\n\npath = Path(verts, codes)\n\nfig, axs = plt.subplots(1,2, figsize=(8,3))\npatch = patches.PathPatch(path, fc='r', alpha=.1, ec='r')\naxs[0].add_patch(patch)\naxs[0].set_xlim(-1, 1)\naxs[0].set_ylim(-1, 1)\naxs[0].set_xticks(np.arange(-1, 1.1, step=0.5))\naxs[0].set_yticks(np.arange(-1, 1.1, step=0.5))\naxs[0].set_aspect('equal')\n#plt.show()\n\nnum_trial = 500\n\nx_abs = np.random.rand(num_trial)\nx_sign = np.random.choice([-1,1], num_trial)\nx_val = x_abs*x_sign\n\ny_abs = np.random.rand(num_trial)\ny_sign = np.random.choice([-1,1], num_trial)\ny_val = y_abs*y_sign\n\n#fig, ax = plt.subplots()\npatch = patches.PathPatch(path, fc='r', alpha=.1, ec='r')\naxs[1].add_patch(patch)\naxs[1].scatter(x_val, y_val, marker='.')\naxs[1].set_xlim(-1, 1)\naxs[1].set_ylim(-1, 1)\naxs[1].set_xticks(np.arange(-1, 1.1, step=0.5))\naxs[1].set_yticks(np.arange(-1, 1.1, step=0.5))\naxs[1].set_aspect('equal')\nplt.savefig('star.png')\nplt.show()",
      "metadata": {
        "trusted": true
      },
      "execution_count": 198,
      "outputs": [
        {
          "output_type": "display_data",
          "data": {
            "text/plain": "<pyolite.display.Image at 0x4d57c60>",
            "image/png": "[encoded data removed]"
          },
          "metadata": {}
        }
      ]
    },
    {
      "cell_type": "code",
      "source": "fig, axs = plt.subplots(1,2, figsize=(8,3))\n\nc = pch.Circle(xy=(0, 0), radius=1, fc='r', alpha=.1)\naxs[0].add_patch(c)\naxs[0].set_xlim(-1, 1)\naxs[0].set_ylim(-1, 1)\naxs[0].set_xticks(np.arange(-1, 1.1, step=0.5))\naxs[0].set_yticks(np.arange(-1, 1.1, step=0.5))\naxs[0].set_aspect('equal')\n#plt.show()\n\nnum_trial = 500\n\nx_abs = np.random.rand(num_trial)\nx_sign = np.random.choice([-1,1], num_trial)\nx_val = x_abs*x_sign\n\ny_abs = np.random.rand(num_trial)\ny_sign = np.random.choice([-1,1], num_trial)\ny_val = y_abs*y_sign\n\n#fig, ax = plt.subplots()\nc = pch.Circle(xy=(0, 0), radius=1, fc='r', alpha=.1)\naxs[1].add_patch(c)\naxs[1].scatter(x_val, y_val, marker='.')\naxs[1].set_xlim(-1, 1)\naxs[1].set_ylim(-1, 1)\naxs[1].set_xticks(np.arange(-1, 1.1, step=0.5))\naxs[1].set_yticks(np.arange(-1, 1.1, step=0.5))\naxs[1].set_aspect('equal')\nplt.savefig('circle.png')\nplt.show()",
      "metadata": {
        "trusted": true
      },
      "execution_count": 199,
      "outputs": [
        {
          "output_type": "display_data",
          "data": {
            "text/plain": "<pyolite.display.Image at 0x32b7a40>",
            "image/png": "[encoded data removed]"
          },
          "metadata": {}
        }
      ]
    },
    {
      "cell_type": "code",
      "source": "fig, ax = plt.subplots(figsize=(3,3))\nc = pch.Circle(xy=(0, 0), radius=1, fc='none', ec='k')\nax.add_patch(c)\nax.set_xlim(-1,1)\nax.set_ylim(-1,1)\nax.set_xticks(np.arange(-1, 1.1, step=0.5))\nax.set_yticks(np.arange(-1, 1.1, step=0.5))\nax.set_aspect('equal')\nax.grid(True)\nplt.savefig('circle0.png')\nplt.show()",
      "metadata": {
        "trusted": true
      },
      "execution_count": 200,
      "outputs": [
        {
          "name": "stderr",
          "text": "<ipython-input-200-6b0d1e24ef09>:1: RuntimeWarning: More than 20 figures have been opened. Figures created through the pyplot interface (`matplotlib.pyplot.figure`) are retained until explicitly closed and may consume too much memory. (To control this warning, see the rcParam `figure.max_open_warning`).\n  fig, ax = plt.subplots(figsize=(3,3))\n",
          "output_type": "stream"
        },
        {
          "output_type": "display_data",
          "data": {
            "text/plain": "<pyolite.display.Image at 0x4597b30>",
            "image/png": "[encoded data removed]"
          },
          "metadata": {}
        }
      ]
    }
  ]
}